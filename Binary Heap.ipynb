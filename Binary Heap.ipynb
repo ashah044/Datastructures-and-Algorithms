{
 "cells": [
  {
   "cell_type": "code",
   "execution_count": 53,
   "metadata": {
    "scrolled": false
   },
   "outputs": [],
   "source": [
    "class MinHeap:\n",
    "    def __init__(self):\n",
    "        self.array = []\n",
    "        \n",
    "    def insert(self, data):\n",
    "        self.array.append(data)\n",
    "        pointer = len(self.array)-1\n",
    "        \n",
    "        parent = int((pointer-1)/2)\n",
    "        \n",
    "        while(self.array[parent]>data):\n",
    "            self.array[pointer], self.array[parent] = self.array[parent], self.array[pointer]\n",
    "            pointer = parent\n",
    "            parent = int((pointer-1)/2)\n",
    "        \n",
    "        \n",
    "    def printHeap(self):\n",
    "        print(self.array)\n",
    "        \n",
    "        \n",
    "    def extract_min(self, newData):\n",
    "        if(len(self.array)==0):\n",
    "            self.array.append(newData)\n",
    "            return self.array\n",
    "        if(len(self.array)==1):\n",
    "            self.array[0] = newData\n",
    "            return self.array\n",
    "        \n",
    "        current_index = 0\n",
    "        self.array[current_index] = newData\n",
    "        \n",
    "        while True:\n",
    "            left_index = current_index*2+1 if len(self.array)>current_index*2+1 else current_index\n",
    "            right_index = current_index*2+2 if len(self.array)>current_index*2+2 else current_index\n",
    "            \n",
    "            min_value = min(self.array[left_index], self.array[right_index])\n",
    "                \n",
    "            min_index = left_index if self.array[left_index]<self.array[right_index] else right_index\n",
    "                \n",
    "            if(self.array[current_index]>min_value):\n",
    "                self.array[current_index], self.array[min_index] = self.array[min_index], self.array[current_index]\n",
    "                current_index = min_index\n",
    "            else:\n",
    "                break\n",
    "            \n",
    "            \n",
    "        \n",
    "        \n",
    "        return self.array\n",
    "        \n",
    "        \n"
   ]
  },
  {
   "cell_type": "code",
   "execution_count": 55,
   "metadata": {
    "scrolled": true
   },
   "outputs": [
    {
     "name": "stdout",
     "output_type": "stream",
     "text": [
      "[10, 50, 23, 88, 90, 32, 74]\n",
      "after replacing min of heap with  96 : \n",
      " [23, 50, 32, 88, 90, 96, 74]\n"
     ]
    }
   ],
   "source": [
    "heap = MinHeap()\n",
    "heap.insert(10)\n",
    "heap.insert(50)\n",
    "heap.insert(23)\n",
    "heap.insert(88)\n",
    "heap.insert(90)\n",
    "heap.insert(32)\n",
    "heap.insert(74)\n",
    "\n",
    "\n",
    "\n",
    "heap.printHeap()\n",
    "newData = 96\n",
    "print('after replacing min of heap with ', newData, ': \\n',heap.extract_min(96))\n"
   ]
  },
  {
   "cell_type": "code",
   "execution_count": 60,
   "metadata": {},
   "outputs": [],
   "source": [
    "class MaxHeap:\n",
    "    def __init__(self):\n",
    "        self.array = []\n",
    "        \n",
    "    def insert(self, data):\n",
    "        self.array.append(data)\n",
    "        pointer = len(self.array)-1\n",
    "        \n",
    "        parent = int((pointer-1)/2)\n",
    "        \n",
    "        while(self.array[parent]<data):\n",
    "            self.array[pointer], self.array[parent] = self.array[parent], self.array[pointer]\n",
    "            pointer = parent\n",
    "            parent = int((pointer-1)/2)\n",
    "        \n",
    "        \n",
    "    def printHeap(self):\n",
    "        print(self.array)\n",
    "        \n",
    "        \n",
    "    def extract_max(self, newData):\n",
    "        if(len(self.array)==0):\n",
    "            self.array.append(newData)\n",
    "            return self.array\n",
    "        if(len(self.array)==1):\n",
    "            self.array[0] = newData\n",
    "            return self.array\n",
    "        \n",
    "        current_index = 0\n",
    "        self.array[current_index] = newData\n",
    "        \n",
    "        while True:\n",
    "            left_index = current_index*2+1 if len(self.array)>current_index*2+1 else current_index\n",
    "            right_index = current_index*2+2 if len(self.array)>current_index*2+2 else current_index\n",
    "            \n",
    "            max_value = max(self.array[left_index], self.array[right_index])\n",
    "                \n",
    "            max_index = left_index if self.array[left_index]>self.array[right_index] else right_index\n",
    "                \n",
    "            if(self.array[current_index]<max_value):\n",
    "                self.array[current_index], self.array[max_index] = self.array[max_index], self.array[current_index]\n",
    "                current_index = max_index\n",
    "            else:\n",
    "                break\n",
    "            \n",
    "            \n",
    "        \n",
    "        \n",
    "        return self.array\n",
    "        \n",
    "        \n"
   ]
  },
  {
   "cell_type": "code",
   "execution_count": 64,
   "metadata": {},
   "outputs": [
    {
     "name": "stdout",
     "output_type": "stream",
     "text": [
      "[90, 88, 74, 10, 50, 23, 32]\n",
      "after replacing max of the heap with  26 : [88, 50, 74, 10, 26, 23, 32]\n",
      "[100, 88, 74, 50, 26, 23, 32, 10]\n"
     ]
    }
   ],
   "source": [
    "heap = MaxHeap()\n",
    "heap.insert(10)\n",
    "heap.insert(50)\n",
    "heap.insert(23)\n",
    "heap.insert(88)\n",
    "heap.insert(90)\n",
    "heap.insert(32)\n",
    "heap.insert(74)\n",
    "\n",
    "heap.printHeap()\n",
    "newData = 26\n",
    "print('after replacing max of the heap with ', newData, ':', heap.extract_max(newData))\n",
    "\n",
    "heap.insert(100)\n",
    "heap.printHeap()"
   ]
  },
  {
   "cell_type": "code",
   "execution_count": null,
   "metadata": {},
   "outputs": [],
   "source": []
  }
 ],
 "metadata": {
  "kernelspec": {
   "display_name": "Python 3",
   "language": "python",
   "name": "python3"
  },
  "language_info": {
   "codemirror_mode": {
    "name": "ipython",
    "version": 3
   },
   "file_extension": ".py",
   "mimetype": "text/x-python",
   "name": "python",
   "nbconvert_exporter": "python",
   "pygments_lexer": "ipython3",
   "version": "3.6.5"
  }
 },
 "nbformat": 4,
 "nbformat_minor": 2
}
