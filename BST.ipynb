{
 "cells": [
  {
   "cell_type": "code",
   "execution_count": 18,
   "metadata": {},
   "outputs": [],
   "source": [
    "class Node:\n",
    "    def __init__(self, key):\n",
    "        self.key = key\n",
    "        self.left = None\n",
    "        self.right = None\n",
    "    def insert(self, newKey):\n",
    "        newNode = Node(newKey)\n",
    "        if(self.key<newNode.key):\n",
    "            if(self.right==None):\n",
    "                self.right = newNode\n",
    "            else:\n",
    "                self.right.insert(newKey)\n",
    "        else:\n",
    "            if(self.left==None):\n",
    "                self.left = newNode\n",
    "            else:\n",
    "                self.left.insert(newKey)\n",
    "    \n",
    "    #inorder \n",
    "    def inorder(self):\n",
    "        if(self.left):\n",
    "            self.left.inorder()\n",
    "        print(self.key)\n",
    "        \n",
    "        if(self.right):\n",
    "            self.right.inorder()\n",
    "            \n",
    "    #postorder\n",
    "    def postorder(self):\n",
    "        if(self.left):\n",
    "            self.left.inorder()\n",
    "        \n",
    "        if(self.right):\n",
    "            self.right.inorder()\n",
    "        print(self.key)\n",
    "        \n",
    "        \n",
    "    #preorder\n",
    "    def preorder(self):\n",
    "        print(self.key)\n",
    "        if(self.left):\n",
    "            self.left.inorder()\n",
    "        \n",
    "        if(self.right):\n",
    "            self.right.inorder()\n",
    "        "
   ]
  },
  {
   "cell_type": "code",
   "execution_count": 19,
   "metadata": {},
   "outputs": [
    {
     "name": "stdout",
     "output_type": "stream",
     "text": [
      "inorder:\n",
      "\n",
      "3\n",
      "5\n",
      "10\n",
      "20\n",
      "30\n",
      "postorder:\n",
      "\n",
      "3\n",
      "5\n",
      "20\n",
      "30\n",
      "10\n",
      "preorder:\n",
      "\n",
      "10\n",
      "3\n",
      "5\n",
      "20\n",
      "30\n"
     ]
    }
   ],
   "source": [
    "root = Node(10)\n",
    "root.insert(20)\n",
    "root.insert(30)\n",
    "root.insert(5)\n",
    "root.insert(3)\n",
    "\n",
    "print('inorder:\\n')\n",
    "root.inorder()\n",
    "\n",
    "print('postorder:\\n')\n",
    "root.postorder()\n",
    "\n",
    "print('preorder:\\n')\n",
    "root.preorder()\n",
    "\n"
   ]
  },
  {
   "cell_type": "code",
   "execution_count": null,
   "metadata": {},
   "outputs": [],
   "source": []
  }
 ],
 "metadata": {
  "kernelspec": {
   "display_name": "Python 3",
   "language": "python",
   "name": "python3"
  },
  "language_info": {
   "codemirror_mode": {
    "name": "ipython",
    "version": 3
   },
   "file_extension": ".py",
   "mimetype": "text/x-python",
   "name": "python",
   "nbconvert_exporter": "python",
   "pygments_lexer": "ipython3",
   "version": "3.6.5"
  }
 },
 "nbformat": 4,
 "nbformat_minor": 2
}
